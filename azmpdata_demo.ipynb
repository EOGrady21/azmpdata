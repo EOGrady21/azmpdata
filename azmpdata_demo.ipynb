{
  "nbformat": 4,
  "nbformat_minor": 0,
  "metadata": {
    "colab": {
      "name": "azmpdata_demo.ipynb",
      "provenance": [],
      "collapsed_sections": [],
      "authorship_tag": "ABX9TyMNeqPaND9NTygfD3XSpp8i",
      "include_colab_link": true
    },
    "kernelspec": {
      "name": "python3",
      "display_name": "Python 3"
    }
  },
  "cells": [
    {
      "cell_type": "markdown",
      "metadata": {
        "id": "view-in-github",
        "colab_type": "text"
      },
      "source": [
        "<a href=\"https://colab.research.google.com/github/Echisholm21/azmpdata/blob/master/azmpdata_demo.ipynb\" target=\"_parent\"><img src=\"https://colab.research.google.com/assets/colab-badge.svg\" alt=\"Open In Colab\"/></a>"
      ]
    },
    {
      "cell_type": "markdown",
      "metadata": {
        "id": "ShlYTUOEZBRu"
      },
      "source": [
        "### **<font color=\"Black\">azmpdata - R Package Demo</font>**\n",
        "\n",
        "From **github**, you can launch this page by clicking on the \"Open in Colab\" badge.\n",
        "\n",
        "<br>\n",
        "\n",
        "### **This Tutorial uses Google Colab.**\n",
        "\n",
        "![colab logo](https://github.com/halldm2000/NOAA-AI-2020-TUTORIAL/blob/master/Images/colab.png?raw=true)\n",
        "\n",
        "<br>\n"
      ]
    },
    {
      "cell_type": "markdown",
      "metadata": {
        "id": "NlvfvUgtZNn7"
      },
      "source": [
        "## **Set up your environment**\n",
        "\n",
        "- First we need to tell the notebook we will be working in R\n",
        "- Then we install azmpdata from github\n",
        "- Lastly, call the library to make sure it is loaded (you should get a message about your package being up to date)"
      ]
    },
    {
      "cell_type": "code",
      "metadata": {
        "id": "ywZ5fLfhU8N7"
      },
      "source": [
        "# activate R magic\n",
        "%load_ext rpy2.ipython"
      ],
      "execution_count": null,
      "outputs": []
    },
    {
      "cell_type": "code",
      "metadata": {
        "id": "m3qWvrqRV-4U"
      },
      "source": [
        "%%R\n",
        "# download devtools so we can install from github\n",
        "install.packages('devtools')\n",
        "\n",
        "# install azmpdata\n",
        "devtools::install_github('casaultb/azmpdata')\n",
        "library(azmpdata)"
      ],
      "execution_count": null,
      "outputs": []
    },
    {
      "cell_type": "markdown",
      "metadata": {
        "id": "T8nJmG4ZaxhT"
      },
      "source": [
        "## **Let's try to access some data!**\n",
        "- data can be called directly (if we know the dataframe name)\n",
        "- R auto-complete magic doesn't work in colab but in R-Studio you would get a list of dataframes if you started typing 'data(...)' slowly"
      ]
    },
    {
      "cell_type": "code",
      "metadata": {
        "id": "JWSMURK-a6vI"
      },
      "source": [
        "%%R\n",
        "\n",
        "data('Discrete_Annual_Broadscale')\n",
        "head(Discrete_Annual_Broadscale)"
      ],
      "execution_count": null,
      "outputs": []
    },
    {
      "cell_type": "markdown",
      "metadata": {
        "id": "aLDcwNt8bi48"
      },
      "source": [
        "- we can also list all the available dataframes"
      ]
    },
    {
      "cell_type": "code",
      "metadata": {
        "id": "7AC3XdGgbmXm"
      },
      "source": [
        "%%R\n",
        "\n",
        "data(package = 'azmpdata')"
      ],
      "execution_count": null,
      "outputs": []
    },
    {
      "cell_type": "markdown",
      "metadata": {
        "id": "-iY0_6tlbwJq"
      },
      "source": [
        "## **Now you try**\n",
        "- Try calling one of the other available dataframes from the package\n",
        "- use the `summary()` function to see the data\n",
        "- Try your favourite 'data peek' function!"
      ]
    },
    {
      "cell_type": "code",
      "metadata": {
        "id": "lXxJqqiUcADi"
      },
      "source": [
        "%%R\n",
        "\n",
        "data('Zooplankton_Occupations_Broadscale')\n",
        "# TODO: Complete activity instructions above!\n"
      ],
      "execution_count": null,
      "outputs": []
    },
    {
      "cell_type": "markdown",
      "metadata": {
        "id": "_LN7qS4LcJXt"
      },
      "source": [
        "## **Searching azmpdata**\n",
        "\n",
        "There is a built in search function which can help you find the data you are looking for within the azmpdata package\n",
        "\n"
      ]
    },
    {
      "cell_type": "markdown",
      "metadata": {
        "id": "W5eq5eEoc22J"
      },
      "source": [
        "- This search function can:\n",
        "    - Search through variable names in all dataframes\n",
        "    - Search through help files "
      ]
    },
    {
      "cell_type": "code",
      "metadata": {
        "id": "iBD9EK1AcjWT"
      },
      "source": [
        "%%R\n",
        "\n",
        "res <- variable_lookup('nitrate')\n",
        "print(res)"
      ],
      "execution_count": null,
      "outputs": []
    },
    {
      "cell_type": "code",
      "metadata": {
        "id": "jLt_JloCrrCk"
      },
      "source": [
        "%%R\n",
        "\n",
        "res <- variable_lookup('stratification', search_help = TRUE)\n",
        "print(res)"
      ],
      "execution_count": null,
      "outputs": []
    },
    {
      "cell_type": "markdown",
      "metadata": {
        "id": "6aqGpnv0G-im"
      },
      "source": [
        "The result you get from the search function includes the variable name that matched your search, and the dataframe in which it is contained. \n",
        "\n",
        "You can then call the dataframe with your desired variable!"
      ]
    },
    {
      "cell_type": "code",
      "metadata": {
        "id": "YYKvHODEc9Rd"
      },
      "source": [
        "%%R\n",
        "\n",
        "head(get(res$dataframe[1]))"
      ],
      "execution_count": null,
      "outputs": []
    },
    {
      "cell_type": "markdown",
      "metadata": {
        "id": "4F9eUM9Fc9lZ"
      },
      "source": [
        "## **Now you try**\n",
        "- Try searching for the term 'zooplankton'\n",
        "- Try combining your search terms (eg. 'zooplankton' and 'dry_weight')\n",
        "- Try searching through both the variable names and help files\n",
        "- Try calling the dataframe which matches your search terms and viewing the data!"
      ]
    },
    {
      "cell_type": "code",
      "metadata": {
        "id": "TQPikElnZqDm"
      },
      "source": [
        "%%R\n",
        "\n",
        "variable_lookup(...)\n",
        "variable_lookup(..., search_help = TRUE) # search through help files!"
      ],
      "execution_count": null,
      "outputs": []
    },
    {
      "cell_type": "markdown",
      "metadata": {
        "id": "WeI2EW0fdXVK"
      },
      "source": [
        "## **Analysis and Plotting**\n",
        "\n",
        "- We can use dplyr, or base R tools to manipulate, analyze and plot the data\n",
        "- We can also use some specially deisgned tools to simplify these tasks\n",
        "\n",
        "\n",
        "Let's download another package `multivaR`"
      ]
    },
    {
      "cell_type": "code",
      "metadata": {
        "id": "2zNYAemedsaC"
      },
      "source": [
        "%%R\n",
        "\n",
        "devtools::install_github('echisholm21/multivaR')\n",
        "install.packages('oce', dependencies = TRUE)\n",
        "library(multivaR)\n",
        "library(dplyr)"
      ],
      "execution_count": null,
      "outputs": []
    },
    {
      "cell_type": "markdown",
      "metadata": {
        "id": "IFum14SSd40k"
      },
      "source": [
        "- We can use multivaR to do common analysis tasks such as calculate anomalies"
      ]
    },
    {
      "cell_type": "code",
      "metadata": {
        "id": "UoEFzf6Jd_M3"
      },
      "source": [
        "%%R\n",
        "\n",
        "# call in some data to play with\n",
        "data('Derived_Occupations_Stations')\n",
        "\n",
        "df_anom <- calculate_anomaly(data = Derived_Occupations_Stations,\n",
        "                  anomalyType = 'monthly', \n",
        "                  climatologyYears = c(1999, 2010),\n",
        "                  var = 'nitrate_0_50',\n",
        "                  normalizedAnomaly = FALSE)\n",
        "head(df_anom)"
      ],
      "execution_count": null,
      "outputs": []
    },
    {
      "cell_type": "markdown",
      "metadata": {
        "id": "BA83wboPeEA9"
      },
      "source": [
        "Or even look at the spatial extent of our data"
      ]
    },
    {
      "cell_type": "code",
      "metadata": {
        "id": "uNIpsgJieJf8"
      },
      "source": [
        "%%R\n",
        "# plot_region(name = 'HL2')\n",
        " sysreg_att<- system.file('extdata/', 'polygons_attributes.csv', package = 'multivaR', mustWork = TRUE)\n",
        " sysreg_geo<- system.file('extdata/', 'polygons_geometry.csv', package = 'multivaR', mustWork = TRUE)\n",
        "\n",
        " regtab_att <- utils::read.csv(sysreg_att)\n",
        " regtab_geo <- utils::read.csv(sysreg_geo)\n",
        "\n",
        "head(regtab_att)\n",
        "\n",
        "\n"
      ],
      "execution_count": null,
      "outputs": []
    },
    {
      "cell_type": "code",
      "metadata": {
        "id": "e03iASrCxerx"
      },
      "source": [
        "%%R\n",
        "# get the info just for the station of interest\n",
        "subtab <- regtab_att[regtab_att$sname == 'P5',]\n",
        "\n",
        "# join with geographic info\n",
        "subtab_geo <- regtab_geo[regtab_geo$record == unique(subtab$record),]\n",
        "\n",
        "\n",
        "full_join(subtab, subtab_geo)"
      ],
      "execution_count": null,
      "outputs": []
    },
    {
      "cell_type": "markdown",
      "metadata": {
        "id": "BlvJqaoFeL2j"
      },
      "source": [
        "## **Now you try**\n",
        "- use help(package = 'multivaR') to see what else multivaR can do\n",
        "- try calculating a PCA for the 'Derived_Occupations_Stations' dataframe \n"
      ]
    },
    {
      "cell_type": "code",
      "metadata": {
        "id": "XlCliRjGelnD"
      },
      "source": [
        "%%R\n",
        "\n",
        "help(package = 'multivaR')\n",
        "help(..., package = 'multivaR') #HINT: Insert the function name to replace '...'\n",
        "\n",
        "# call in data\n",
        "\n",
        "# perform PCA\n",
        "PCA(...) # HINT: you should only give the PCA function data variables, not metadata!"
      ],
      "execution_count": null,
      "outputs": []
    }
  ]
}