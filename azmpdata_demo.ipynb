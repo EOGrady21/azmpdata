{
  "nbformat": 4,
  "nbformat_minor": 0,
  "metadata": {
    "colab": {
      "name": "azmpdata_demo.ipynb",
      "provenance": [],
      "collapsed_sections": [],
      "authorship_tag": "ABX9TyMNlxzMvGnFpT+3Tinue22z",
      "include_colab_link": true
    },
    "kernelspec": {
      "name": "python3",
      "display_name": "Python 3"
    }
  },
  "cells": [
    {
      "cell_type": "markdown",
      "metadata": {
        "id": "view-in-github",
        "colab_type": "text"
      },
      "source": [
        "<a href=\"https://colab.research.google.com/github/Echisholm21/azmpdata/blob/master/azmpdata_demo.ipynb\" target=\"_parent\"><img src=\"https://colab.research.google.com/assets/colab-badge.svg\" alt=\"Open In Colab\"/></a>"
      ]
    },
    {
      "cell_type": "markdown",
      "metadata": {
        "id": "ShlYTUOEZBRu"
      },
      "source": [
        "### **<font color=\"Black\">azmpdata - R Package Demo</font>**\n",
        "\n",
        "From **github**, you can launch this page by clicking on the \"Open in Colab\" badge.\n",
        "\n",
        "<br>\n",
        "\n",
        "### **This Tutorial uses Google Colab.**\n",
        "\n",
        "![colab logo](https://github.com/halldm2000/NOAA-AI-2020-TUTORIAL/blob/master/Images/colab.png?raw=true)\n",
        "\n",
        "<br>\n"
      ]
    },
    {
      "cell_type": "markdown",
      "metadata": {
        "id": "NlvfvUgtZNn7"
      },
      "source": [
        "## **Set up your environment**\n",
        "\n",
        "- First we need to tell the notebook we will be working in R\n",
        "- Then we install azmpdata from github\n",
        "- Lastly, call the library to make sure it is loaded (you should get a message about your package being up to date)"
      ]
    },
    {
      "cell_type": "code",
      "metadata": {
        "id": "ywZ5fLfhU8N7",
        "colab": {
          "base_uri": "https://localhost:8080/"
        },
        "outputId": "a18ce41f-c00d-457c-9def-5fecf478eeb1"
      },
      "source": [
        "# activate R magic\n",
        "%load_ext rpy2.ipython"
      ],
      "execution_count": 2,
      "outputs": [
        {
          "output_type": "stream",
          "text": [
            "/usr/local/lib/python3.6/dist-packages/rpy2/robjects/pandas2ri.py:14: FutureWarning: pandas.core.index is deprecated and will be removed in a future version.  The public classes are available in the top-level namespace.\n",
            "  from pandas.core.index import Index as PandasIndex\n",
            "/usr/local/lib/python3.6/dist-packages/rpy2/robjects/pandas2ri.py:34: UserWarning: pandas >= 1.0 is not supported.\n",
            "  warnings.warn('pandas >= 1.0 is not supported.')\n"
          ],
          "name": "stderr"
        }
      ]
    },
    {
      "cell_type": "code",
      "metadata": {
        "id": "m3qWvrqRV-4U",
        "colab": {
          "base_uri": "https://localhost:8080/"
        },
        "outputId": "e909eef0-1b71-482f-d7af-004fed3ac67c"
      },
      "source": [
        "%%R\n",
        "# download devtools so we can install from github\n",
        "install.packages('devtools')\n",
        "\n",
        "# install azmpdata\n",
        "devtools::install_github('casaultb/azmpdata')\n",
        "library(azmpdata)"
      ],
      "execution_count": 3,
      "outputs": [
        {
          "output_type": "stream",
          "text": [
            "R[write to console]: Installing package into ‘/usr/local/lib/R/site-library’\n",
            "(as ‘lib’ is unspecified)\n",
            "\n",
            "R[write to console]: trying URL 'https://cran.rstudio.com/src/contrib/devtools_2.3.2.tar.gz'\n",
            "\n",
            "R[write to console]: Content type 'application/x-gzip'\n",
            "R[write to console]:  length 373387 bytes (364 KB)\n",
            "\n",
            "R[write to console]: =\n",
            "R[write to console]: =\n",
            "R[write to console]: =\n",
            "R[write to console]: =\n",
            "R[write to console]: =\n",
            "R[write to console]: =\n",
            "R[write to console]: =\n",
            "R[write to console]: =\n",
            "R[write to console]: =\n",
            "R[write to console]: =\n",
            "R[write to console]: =\n",
            "R[write to console]: =\n",
            "R[write to console]: =\n",
            "R[write to console]: =\n",
            "R[write to console]: =\n",
            "R[write to console]: =\n",
            "R[write to console]: =\n",
            "R[write to console]: =\n",
            "R[write to console]: =\n",
            "R[write to console]: =\n",
            "R[write to console]: =\n",
            "R[write to console]: =\n",
            "R[write to console]: =\n",
            "R[write to console]: =\n",
            "R[write to console]: =\n",
            "R[write to console]: =\n",
            "R[write to console]: =\n",
            "R[write to console]: =\n",
            "R[write to console]: =\n",
            "R[write to console]: =\n",
            "R[write to console]: =\n",
            "R[write to console]: =\n",
            "R[write to console]: =\n",
            "R[write to console]: =\n",
            "R[write to console]: =\n",
            "R[write to console]: =\n",
            "R[write to console]: =\n",
            "R[write to console]: =\n",
            "R[write to console]: =\n",
            "R[write to console]: =\n",
            "R[write to console]: =\n",
            "R[write to console]: =\n",
            "R[write to console]: =\n",
            "R[write to console]: =\n",
            "R[write to console]: =\n",
            "R[write to console]: =\n",
            "R[write to console]: =\n",
            "R[write to console]: =\n",
            "R[write to console]: =\n",
            "R[write to console]: =\n",
            "R[write to console]: \n",
            "\n",
            "R[write to console]: downloaded 364 KB\n",
            "\n",
            "\n",
            "R[write to console]: \n",
            "\n",
            "R[write to console]: \n",
            "R[write to console]: The downloaded source packages are in\n",
            "\t‘/tmp/Rtmp7iGRMN/downloaded_packages’\n",
            "R[write to console]: \n",
            "R[write to console]: \n",
            "\n",
            "R[write to console]: Downloading GitHub repo casaultb/azmpdata@HEAD\n",
            "\n"
          ],
          "name": "stderr"
        },
        {
          "output_type": "stream",
          "text": [
            "\n",
            "✔  checking for file ‘/tmp/Rtmp7iGRMN/remotes252f5b7eea33/casaultb-azmpdata-6fd1384/DESCRIPTION’ (344ms)\n",
            "─  preparing ‘azmpdata’:\n",
            "✔  checking DESCRIPTION meta-information\n",
            "─  checking for LF line-endings in source and make files and shell scripts\n",
            "─  checking for empty or unneeded directories\n",
            "─  building ‘azmpdata_0.2019.0.9000.tar.gz’\n",
            "   \n"
          ],
          "name": "stdout"
        },
        {
          "output_type": "stream",
          "text": [
            "R[write to console]: Installing package into ‘/usr/local/lib/R/site-library’\n",
            "(as ‘lib’ is unspecified)\n",
            "\n"
          ],
          "name": "stderr"
        },
        {
          "output_type": "stream",
          "text": [
            "\n",
            " casaultb/azmpdata status:\n",
            "\t(Package ver: 0.2019.0.9000) Up to date\n",
            "\t(Data ver:2020-10-28) is up to date\n"
          ],
          "name": "stdout"
        }
      ]
    },
    {
      "cell_type": "markdown",
      "metadata": {
        "id": "T8nJmG4ZaxhT"
      },
      "source": [
        "## **Let's try to access some data!**\n",
        "- data can be called directly (if we know the dataframe name)\n",
        "- R auto-complete magic doesn't work in colab but in R-Studio you would get a list of dataframes if you started typing 'data(...)' slowly"
      ]
    },
    {
      "cell_type": "code",
      "metadata": {
        "id": "JWSMURK-a6vI",
        "colab": {
          "base_uri": "https://localhost:8080/"
        },
        "outputId": "1b62ca5a-e826-4404-d8d9-0d24913375e7"
      },
      "source": [
        "%%R\n",
        "\n",
        "data('Discrete_Annual_Broadscale')\n",
        "head(Discrete_Annual_Broadscale)"
      ],
      "execution_count": 3,
      "outputs": [
        {
          "output_type": "stream",
          "text": [
            "  year     area_name salinity sea_temperature\n",
            "1 1948 Scotion Shelf    0.068          -1.396\n",
            "2 1949 Scotion Shelf    0.252           0.545\n",
            "3 1950 Scotion Shelf    0.511          -0.373\n",
            "4 1951 Scotion Shelf    0.080           1.364\n",
            "5 1952 Scotion Shelf   -0.043           0.500\n",
            "6 1953 Scotion Shelf    0.059           0.248\n"
          ],
          "name": "stdout"
        }
      ]
    },
    {
      "cell_type": "markdown",
      "metadata": {
        "id": "aLDcwNt8bi48"
      },
      "source": [
        "- we can also list all the available dataframes"
      ]
    },
    {
      "cell_type": "code",
      "metadata": {
        "id": "7AC3XdGgbmXm",
        "colab": {
          "base_uri": "https://localhost:8080/"
        },
        "outputId": "63111941-b4ca-42cc-d1be-03658fc21805"
      },
      "source": [
        "%%R\n",
        "\n",
        "data(package = 'azmpdata')"
      ],
      "execution_count": 4,
      "outputs": [
        {
          "output_type": "stream",
          "text": [
            "File: /tmp/RtmpBJMgUL/RpackageIQR395407fe49\n",
            "Data sets in package ‘azmpdata’:\n",
            "\n",
            "\n",
            "\n",
            "Derived_Annual_Broadscale\n",
            "\n",
            "                        Derived monthly broadscale data\n",
            "\n",
            "Derived_Annual_Sections\n",
            "\n",
            "                        Derived Annual Section data\n",
            "\n",
            "Derived_Annual_Stations\n",
            "\n",
            "                        Derived Occupation Monthly data\n",
            "\n",
            "Derived_Occupations_Sections\n",
            "\n",
            "                        Derived Occupation Section data\n",
            "\n",
            "Derived_Occupations_Stations\n",
            "\n",
            "                        Derived Occupation Station data\n",
            "\n",
            "Discrete_Annual_Broadscale\n",
            "\n",
            "                        Discrete annual broadscale data\n",
            "\n",
            "Discrete_Occupations_Sections\n",
            "\n",
            "                        Discrete Occupation Section data\n",
            "\n",
            "Discrete_Occupations_Stations\n",
            "\n",
            "                        Discrete Occupation Station data\n",
            "\n",
            "Phytoplankton_Annual_Stations\n",
            "\n",
            "                        Phytoplankton Annual Station data\n",
            "\n",
            "Phytoplankton_Occupations_Stations\n",
            "\n",
            "                        Phytoplankton Occupation Station data\n",
            "\n",
            "RemoteSensing_Annual_Broadscale\n",
            "\n",
            "                        Remote sensing Annual broadscale data\n",
            "\n",
            "RemoteSensing_Weekly_Broadscale\n",
            "\n",
            "                        Remote Sensing Annual Broadscale data\n",
            "\n",
            "Zooplankton_Annual_Sections\n",
            "\n",
            "                        Zooplankton Annual Section data\n",
            "\n",
            "Zooplankton_Annual_Stations\n",
            "\n",
            "                        Zooplankton Annual Stations data\n",
            "\n",
            "Zooplankton_Occupations_Broadscale\n",
            "\n",
            "                        Zooplankton Occupation Broadscale data\n",
            "\n",
            "Zooplankton_Occupations_Sections\n",
            "\n",
            "                        Zooplankton Occupation Section data\n",
            "\n",
            "Zooplankton_Occupations_Stations\n",
            "\n",
            "                        Zooplankton Occupations Stations data\n",
            "\n",
            "Zooplankton_Seasonal_Broadscale\n",
            "\n",
            "                        Zooplankton seasonal broadscale data\n",
            "\n",
            "Zooplankton_Seasonal_Sections\n",
            "\n",
            "                        Zooplankton seasonal section data\n",
            "\n",
            "---\n"
          ],
          "name": "stdout"
        }
      ]
    },
    {
      "cell_type": "markdown",
      "metadata": {
        "id": "-iY0_6tlbwJq"
      },
      "source": [
        "## **Now you try**\n",
        "- Try calling one of the other available dataframes from the package\n",
        "- use the `summary()` function to see the data\n",
        "- Try your favourite 'data peek' function!"
      ]
    },
    {
      "cell_type": "code",
      "metadata": {
        "id": "lXxJqqiUcADi"
      },
      "source": [
        "%%R\n",
        "\n",
        "data(...)\n",
        "# TODO: Complete activity instructions above!\n"
      ],
      "execution_count": null,
      "outputs": []
    },
    {
      "cell_type": "markdown",
      "metadata": {
        "id": "_LN7qS4LcJXt"
      },
      "source": [
        "## **Searching azmpdata**\n",
        "\n",
        "There is a built in search function which can help you find the data you are looking for within the azmpdata package\n",
        "\n"
      ]
    },
    {
      "cell_type": "markdown",
      "metadata": {
        "id": "W5eq5eEoc22J"
      },
      "source": [
        "- This search function can:\n",
        "    - Search through variable names in all dataframes\n",
        "    - Search through help files (in development)"
      ]
    },
    {
      "cell_type": "code",
      "metadata": {
        "id": "iBD9EK1AcjWT",
        "colab": {
          "base_uri": "https://localhost:8080/"
        },
        "outputId": "9c24b60a-80d1-4e76-ed4c-2ea0868c6830"
      },
      "source": [
        "%%R\n",
        "\n",
        "res <- variable_lookup('nitrate')\n",
        "print(res)"
      ],
      "execution_count": 13,
      "outputs": [
        {
          "output_type": "stream",
          "text": [
            "R[write to console]: Skipping install of 'azmpdata' from a github remote, the SHA1 (3c3d5981) has not changed since last install.\n",
            "  Use `force = TRUE` to force installation\n",
            "\n"
          ],
          "name": "stderr"
        },
        {
          "output_type": "stream",
          "text": [
            "# A tibble: 0 x 4\n",
            "# … with 4 variables: keyword <chr>, variable <chr>, dataframe <chr>,\n",
            "#   file <chr>\n"
          ],
          "name": "stdout"
        }
      ]
    },
    {
      "cell_type": "markdown",
      "metadata": {
        "id": "6aqGpnv0G-im"
      },
      "source": [
        "The result you get from the search function includes the variable name that matched your search, and the dataframe in which it is contained. \n",
        "\n",
        "You can then call the dataframe with your desired variable!"
      ]
    },
    {
      "cell_type": "code",
      "metadata": {
        "id": "YYKvHODEc9Rd",
        "colab": {
          "base_uri": "https://localhost:8080/"
        },
        "outputId": "c9b2d5c8-0d83-4f93-d422-980e8797dddb"
      },
      "source": [
        "%%R\n",
        "\n",
        "\n",
        "get(res$dataframe)"
      ],
      "execution_count": null,
      "outputs": [
        {
          "output_type": "stream",
          "text": [
            "R[write to console]: Error in get(res$dataframe) : invalid first argument\n",
            "Calls: <Anonymous> -> <Anonymous> -> withVisible -> get\n",
            "\n",
            "R[write to console]: In addition: \n",
            "R[write to console]: Warning messages:\n",
            "\n",
            "R[write to console]: 1: \n",
            "R[write to console]: In rm(\"tmp_env\") :\n",
            "R[write to console]:  object 'tmp_env' not found\n",
            "\n",
            "R[write to console]: 2: \n",
            "R[write to console]: In rm(\"tmp_env\") :\n",
            "R[write to console]:  object 'tmp_env' not found\n",
            "\n",
            "R[write to console]: 3: \n",
            "R[write to console]: In rm(\"tmp_env\") :\n",
            "R[write to console]:  object 'tmp_env' not found\n",
            "\n"
          ],
          "name": "stderr"
        },
        {
          "output_type": "stream",
          "text": [
            "\n",
            "Error in get(res$dataframe) : invalid first argument\n",
            "Calls: <Anonymous> -> <Anonymous> -> withVisible -> get\n"
          ],
          "name": "stdout"
        }
      ]
    },
    {
      "cell_type": "markdown",
      "metadata": {
        "id": "4F9eUM9Fc9lZ"
      },
      "source": [
        "## **Now you try**\n",
        "- Try searching for the term 'zooplankton'\n",
        "- Try combining your search terms (eg. 'zooplankton' and 'dry_weight')\n",
        "- Try calling the dataframe which matches your search terms and viewing the data!"
      ]
    },
    {
      "cell_type": "code",
      "metadata": {
        "id": "TQPikElnZqDm"
      },
      "source": [
        "variable_lookup(...)"
      ],
      "execution_count": null,
      "outputs": []
    },
    {
      "cell_type": "markdown",
      "metadata": {
        "id": "WeI2EW0fdXVK"
      },
      "source": [
        "## **Analysis and Plotting**\n",
        "\n",
        "- We can use dplyr, or base R tools to manipulate, analyze and plot the data\n",
        "- We can also use some specially deisgned tools to simplify these tasks\n",
        "\n",
        "\n",
        "Let's download another package `multivaR`"
      ]
    },
    {
      "cell_type": "code",
      "metadata": {
        "id": "2zNYAemedsaC",
        "colab": {
          "base_uri": "https://localhost:8080/"
        },
        "outputId": "279fc462-1eff-4855-cc45-343c82424e1b"
      },
      "source": [
        "%%R\n",
        "\n",
        "devtools::install_github('echisholm21/multivaR')\n",
        "install.packages('oce', dependencies = TRUE)\n",
        "library(multivaR)"
      ],
      "execution_count": 4,
      "outputs": [
        {
          "output_type": "stream",
          "text": [
            "R[write to console]: Skipping install of 'multivaR' from a github remote, the SHA1 (8067ca25) has not changed since last install.\n",
            "  Use `force = TRUE` to force installation\n",
            "\n",
            "R[write to console]: Installing package into ‘/usr/local/lib/R/site-library’\n",
            "(as ‘lib’ is unspecified)\n",
            "\n",
            "R[write to console]: also installing the dependencies ‘units’, ‘ncdf4’, ‘rgeos’, ‘rgdal’, ‘sf’\n",
            "\n",
            "\n",
            "R[write to console]: trying URL 'https://cran.rstudio.com/src/contrib/units_0.6-7.tar.gz'\n",
            "\n",
            "R[write to console]: Content type 'application/x-gzip'\n",
            "R[write to console]:  length 957214 bytes (934 KB)\n",
            "\n",
            "R[write to console]: =\n",
            "R[write to console]: =\n",
            "R[write to console]: =\n",
            "R[write to console]: =\n",
            "R[write to console]: =\n",
            "R[write to console]: =\n",
            "R[write to console]: =\n",
            "R[write to console]: =\n",
            "R[write to console]: =\n",
            "R[write to console]: =\n",
            "R[write to console]: =\n",
            "R[write to console]: =\n",
            "R[write to console]: =\n",
            "R[write to console]: =\n",
            "R[write to console]: =\n",
            "R[write to console]: =\n",
            "R[write to console]: =\n",
            "R[write to console]: =\n",
            "R[write to console]: =\n",
            "R[write to console]: =\n",
            "R[write to console]: =\n",
            "R[write to console]: =\n",
            "R[write to console]: =\n",
            "R[write to console]: =\n",
            "R[write to console]: =\n",
            "R[write to console]: =\n",
            "R[write to console]: =\n",
            "R[write to console]: =\n",
            "R[write to console]: =\n",
            "R[write to console]: =\n",
            "R[write to console]: =\n",
            "R[write to console]: =\n",
            "R[write to console]: =\n",
            "R[write to console]: =\n",
            "R[write to console]: =\n",
            "R[write to console]: =\n",
            "R[write to console]: =\n",
            "R[write to console]: =\n",
            "R[write to console]: =\n",
            "R[write to console]: =\n",
            "R[write to console]: =\n",
            "R[write to console]: =\n",
            "R[write to console]: =\n",
            "R[write to console]: =\n",
            "R[write to console]: =\n",
            "R[write to console]: =\n",
            "R[write to console]: =\n",
            "R[write to console]: =\n",
            "R[write to console]: =\n",
            "R[write to console]: =\n",
            "R[write to console]: \n",
            "\n",
            "R[write to console]: downloaded 934 KB\n",
            "\n",
            "\n",
            "R[write to console]: trying URL 'https://cran.rstudio.com/src/contrib/ncdf4_1.17.tar.gz'\n",
            "\n",
            "R[write to console]: Content type 'application/x-gzip'\n",
            "R[write to console]:  length 124458 bytes (121 KB)\n",
            "\n",
            "R[write to console]: =\n",
            "R[write to console]: =\n",
            "R[write to console]: =\n",
            "R[write to console]: =\n",
            "R[write to console]: =\n",
            "R[write to console]: =\n",
            "R[write to console]: =\n",
            "R[write to console]: =\n",
            "R[write to console]: =\n",
            "R[write to console]: =\n",
            "R[write to console]: =\n",
            "R[write to console]: =\n",
            "R[write to console]: =\n",
            "R[write to console]: =\n",
            "R[write to console]: =\n",
            "R[write to console]: =\n",
            "R[write to console]: =\n",
            "R[write to console]: =\n",
            "R[write to console]: =\n",
            "R[write to console]: =\n",
            "R[write to console]: =\n",
            "R[write to console]: =\n",
            "R[write to console]: =\n",
            "R[write to console]: =\n",
            "R[write to console]: =\n",
            "R[write to console]: =\n",
            "R[write to console]: =\n",
            "R[write to console]: =\n",
            "R[write to console]: =\n",
            "R[write to console]: =\n",
            "R[write to console]: =\n",
            "R[write to console]: =\n",
            "R[write to console]: =\n",
            "R[write to console]: =\n",
            "R[write to console]: =\n",
            "R[write to console]: =\n",
            "R[write to console]: =\n",
            "R[write to console]: =\n",
            "R[write to console]: =\n",
            "R[write to console]: =\n",
            "R[write to console]: =\n",
            "R[write to console]: =\n",
            "R[write to console]: =\n",
            "R[write to console]: =\n",
            "R[write to console]: =\n",
            "R[write to console]: =\n",
            "R[write to console]: =\n",
            "R[write to console]: =\n",
            "R[write to console]: =\n",
            "R[write to console]: =\n",
            "R[write to console]: \n",
            "\n",
            "R[write to console]: downloaded 121 KB\n",
            "\n",
            "\n",
            "R[write to console]: trying URL 'https://cran.rstudio.com/src/contrib/rgeos_0.5-5.tar.gz'\n",
            "\n",
            "R[write to console]: Content type 'application/x-gzip'\n",
            "R[write to console]:  length 259567 bytes (253 KB)\n",
            "\n",
            "R[write to console]: =\n",
            "R[write to console]: =\n",
            "R[write to console]: =\n",
            "R[write to console]: =\n",
            "R[write to console]: =\n",
            "R[write to console]: =\n",
            "R[write to console]: =\n",
            "R[write to console]: =\n",
            "R[write to console]: =\n",
            "R[write to console]: =\n",
            "R[write to console]: =\n",
            "R[write to console]: =\n",
            "R[write to console]: =\n",
            "R[write to console]: =\n",
            "R[write to console]: =\n",
            "R[write to console]: =\n",
            "R[write to console]: =\n",
            "R[write to console]: =\n",
            "R[write to console]: =\n",
            "R[write to console]: =\n",
            "R[write to console]: =\n",
            "R[write to console]: =\n",
            "R[write to console]: =\n",
            "R[write to console]: =\n",
            "R[write to console]: =\n",
            "R[write to console]: =\n",
            "R[write to console]: =\n",
            "R[write to console]: =\n",
            "R[write to console]: =\n",
            "R[write to console]: =\n",
            "R[write to console]: =\n",
            "R[write to console]: =\n",
            "R[write to console]: =\n",
            "R[write to console]: =\n",
            "R[write to console]: =\n",
            "R[write to console]: =\n",
            "R[write to console]: =\n",
            "R[write to console]: =\n",
            "R[write to console]: =\n",
            "R[write to console]: =\n",
            "R[write to console]: =\n",
            "R[write to console]: =\n",
            "R[write to console]: =\n",
            "R[write to console]: =\n",
            "R[write to console]: =\n",
            "R[write to console]: =\n",
            "R[write to console]: =\n",
            "R[write to console]: =\n",
            "R[write to console]: =\n",
            "R[write to console]: =\n",
            "R[write to console]: \n",
            "\n",
            "R[write to console]: downloaded 253 KB\n",
            "\n",
            "\n",
            "R[write to console]: trying URL 'https://cran.rstudio.com/src/contrib/rgdal_1.5-18.tar.gz'\n",
            "\n",
            "R[write to console]: Content type 'application/x-gzip'\n",
            "R[write to console]:  length 4388549 bytes (4.2 MB)\n",
            "\n",
            "R[write to console]: =\n",
            "R[write to console]: =\n",
            "R[write to console]: =\n",
            "R[write to console]: =\n",
            "R[write to console]: =\n",
            "R[write to console]: =\n",
            "R[write to console]: =\n",
            "R[write to console]: =\n",
            "R[write to console]: =\n",
            "R[write to console]: =\n",
            "R[write to console]: =\n",
            "R[write to console]: =\n",
            "R[write to console]: =\n",
            "R[write to console]: =\n",
            "R[write to console]: =\n",
            "R[write to console]: =\n",
            "R[write to console]: =\n",
            "R[write to console]: =\n",
            "R[write to console]: =\n",
            "R[write to console]: =\n",
            "R[write to console]: =\n",
            "R[write to console]: =\n",
            "R[write to console]: =\n",
            "R[write to console]: =\n",
            "R[write to console]: =\n",
            "R[write to console]: =\n",
            "R[write to console]: =\n",
            "R[write to console]: =\n",
            "R[write to console]: =\n",
            "R[write to console]: =\n",
            "R[write to console]: =\n",
            "R[write to console]: =\n",
            "R[write to console]: =\n",
            "R[write to console]: =\n",
            "R[write to console]: =\n",
            "R[write to console]: =\n",
            "R[write to console]: =\n",
            "R[write to console]: =\n",
            "R[write to console]: =\n",
            "R[write to console]: =\n",
            "R[write to console]: =\n",
            "R[write to console]: =\n",
            "R[write to console]: =\n",
            "R[write to console]: =\n",
            "R[write to console]: =\n",
            "R[write to console]: =\n",
            "R[write to console]: =\n",
            "R[write to console]: =\n",
            "R[write to console]: =\n",
            "R[write to console]: =\n",
            "R[write to console]: \n",
            "\n",
            "R[write to console]: downloaded 4.2 MB\n",
            "\n",
            "\n",
            "R[write to console]: trying URL 'https://cran.rstudio.com/src/contrib/sf_0.9-6.tar.gz'\n",
            "\n",
            "R[write to console]: Content type 'application/x-gzip'\n",
            "R[write to console]:  length 4160758 bytes (4.0 MB)\n",
            "\n",
            "R[write to console]: =\n",
            "R[write to console]: =\n",
            "R[write to console]: =\n",
            "R[write to console]: =\n",
            "R[write to console]: =\n",
            "R[write to console]: =\n",
            "R[write to console]: =\n",
            "R[write to console]: =\n",
            "R[write to console]: =\n",
            "R[write to console]: =\n",
            "R[write to console]: =\n",
            "R[write to console]: =\n",
            "R[write to console]: =\n",
            "R[write to console]: =\n",
            "R[write to console]: =\n",
            "R[write to console]: =\n",
            "R[write to console]: =\n",
            "R[write to console]: =\n",
            "R[write to console]: =\n",
            "R[write to console]: =\n",
            "R[write to console]: =\n",
            "R[write to console]: =\n",
            "R[write to console]: =\n",
            "R[write to console]: =\n",
            "R[write to console]: =\n",
            "R[write to console]: =\n",
            "R[write to console]: =\n",
            "R[write to console]: =\n",
            "R[write to console]: =\n",
            "R[write to console]: =\n",
            "R[write to console]: =\n",
            "R[write to console]: =\n",
            "R[write to console]: =\n",
            "R[write to console]: =\n",
            "R[write to console]: =\n",
            "R[write to console]: =\n",
            "R[write to console]: =\n",
            "R[write to console]: =\n",
            "R[write to console]: =\n",
            "R[write to console]: =\n",
            "R[write to console]: =\n",
            "R[write to console]: =\n",
            "R[write to console]: =\n",
            "R[write to console]: =\n",
            "R[write to console]: =\n",
            "R[write to console]: =\n",
            "R[write to console]: =\n",
            "R[write to console]: =\n",
            "R[write to console]: =\n",
            "R[write to console]: =\n",
            "R[write to console]: \n",
            "\n",
            "R[write to console]: downloaded 4.0 MB\n",
            "\n",
            "\n",
            "R[write to console]: trying URL 'https://cran.rstudio.com/src/contrib/oce_1.2-0.tar.gz'\n",
            "\n",
            "R[write to console]: Content type 'application/x-gzip'\n",
            "R[write to console]:  length 4444245 bytes (4.2 MB)\n",
            "\n",
            "R[write to console]: =\n",
            "R[write to console]: =\n",
            "R[write to console]: =\n",
            "R[write to console]: =\n",
            "R[write to console]: =\n",
            "R[write to console]: =\n",
            "R[write to console]: =\n",
            "R[write to console]: =\n",
            "R[write to console]: =\n",
            "R[write to console]: =\n",
            "R[write to console]: =\n",
            "R[write to console]: =\n",
            "R[write to console]: =\n",
            "R[write to console]: =\n",
            "R[write to console]: =\n",
            "R[write to console]: =\n",
            "R[write to console]: =\n",
            "R[write to console]: =\n",
            "R[write to console]: =\n",
            "R[write to console]: =\n",
            "R[write to console]: =\n",
            "R[write to console]: =\n",
            "R[write to console]: =\n",
            "R[write to console]: =\n",
            "R[write to console]: =\n",
            "R[write to console]: =\n",
            "R[write to console]: =\n",
            "R[write to console]: =\n",
            "R[write to console]: =\n",
            "R[write to console]: =\n",
            "R[write to console]: =\n",
            "R[write to console]: =\n",
            "R[write to console]: =\n",
            "R[write to console]: =\n",
            "R[write to console]: =\n",
            "R[write to console]: =\n",
            "R[write to console]: =\n",
            "R[write to console]: =\n",
            "R[write to console]: =\n",
            "R[write to console]: =\n",
            "R[write to console]: =\n",
            "R[write to console]: =\n",
            "R[write to console]: =\n",
            "R[write to console]: =\n",
            "R[write to console]: =\n",
            "R[write to console]: =\n",
            "R[write to console]: =\n",
            "R[write to console]: =\n",
            "R[write to console]: =\n",
            "R[write to console]: =\n",
            "R[write to console]: \n",
            "\n",
            "R[write to console]: downloaded 4.2 MB\n",
            "\n",
            "\n",
            "R[write to console]: \n",
            "\n",
            "R[write to console]: \n",
            "R[write to console]: The downloaded source packages are in\n",
            "\t‘/tmp/Rtmp7iGRMN/downloaded_packages’\n",
            "R[write to console]: \n",
            "R[write to console]: \n",
            "\n"
          ],
          "name": "stderr"
        }
      ]
    },
    {
      "cell_type": "markdown",
      "metadata": {
        "id": "IFum14SSd40k"
      },
      "source": [
        "- We can use multivaR to do common analysis tasks such as calculate anomalies"
      ]
    },
    {
      "cell_type": "code",
      "metadata": {
        "id": "UoEFzf6Jd_M3",
        "colab": {
          "base_uri": "https://localhost:8080/"
        },
        "outputId": "a27df4c5-59ac-46e7-ba14-2e186c7794fb"
      },
      "source": [
        "%%R\n",
        "\n",
        "# call in some data to play with\n",
        "data('Derived_Occupations_Stations')\n",
        "# head(Derived_Occupations_Stations)\n",
        "df_anom <- calculate_anomaly(data = Derived_Occupations_Stations,\n",
        "                  anomalyType = 'monthly', \n",
        "                  climatologyYears = c(1999, 2010),\n",
        "                  var = 'nitrate_0_50',\n",
        "                  normalizedAnomaly = FALSE)\n",
        "head(df_anom)"
      ],
      "execution_count": 5,
      "outputs": [
        {
          "output_type": "stream",
          "text": [
            "  station latitude longitude year month day           event_id\n",
            "1     HL2 44.26500  -63.3175 1999     1  13 18VA99666_99666001\n",
            "2     HL2 44.26633  -63.3175 1999     2  10 18PZ98078_98078003\n",
            "3     HL2 44.26500  -63.3175 1999     2  16 18PZ98078_98078057\n",
            "4     HL2 44.26670  -63.3167 1999     3  31 18CY98079_98079037\n",
            "5     HL2 44.26000  -63.3100 1999     4   9 18HU99005_99003013\n",
            "6     HL2 44.27000  -63.3100 1999     4  18 18HU99005_99003216\n",
            "  chlorophyll_0_100 nitrate_0_50 nitrate_50_150 phosphate_0_50 phosphate_50_150\n",
            "1          30.75855     242.2565       898.7992       30.17475          85.9625\n",
            "2          80.17150     202.6310      1038.5110       29.63250          96.9925\n",
            "3         104.99400     212.0400       883.4240       31.63300          84.9970\n",
            "4         160.26106       5.0618       858.7223       24.16650          91.4800\n",
            "5          18.69500      11.2660       554.7530       13.66250          50.1905\n",
            "6          52.45000      31.1275       791.6345       23.01250          90.2900\n",
            "  silicate_0_50 silicate_50_150 nitrate_0_50_anomaly\n",
            "1      281.9705        948.0045            -120.3203\n",
            "2      218.1390        995.9780            -174.4977\n",
            "3      237.3920        861.3900            -165.0887\n",
            "4       11.6775        752.1910            -318.5248\n",
            "5       20.2170        615.5765            -135.4961\n",
            "6       34.1275        835.9355            -115.6346\n"
          ],
          "name": "stdout"
        }
      ]
    },
    {
      "cell_type": "markdown",
      "metadata": {
        "id": "BA83wboPeEA9"
      },
      "source": [
        "Or even look at the spatial extent of our data"
      ]
    },
    {
      "cell_type": "code",
      "metadata": {
        "id": "uNIpsgJieJf8",
        "colab": {
          "base_uri": "https://localhost:8080/"
        },
        "outputId": "1a7c4d33-2de5-4f92-ac68-a4bebf8dcd9e"
      },
      "source": [
        "%%R\n",
        "# plot_region(name = 'HL2')\n",
        " sysreg_att<- system.file('extdata/', 'polygons_attributes.csv', package = 'multivaR', mustWork = TRUE)\n",
        " sysreg_geo<- system.file('extdata/', 'polygons_geometry.csv', package = 'multivaR', mustWork = TRUE)\n",
        "\n",
        " regtab_att <- utils::read.csv(sysreg_att)\n",
        " regtab_geo <- utils::read.csv(sysreg_geo)\n",
        "\n",
        "head(regtab_att)\n",
        "\n",
        "\n"
      ],
      "execution_count": 11,
      "outputs": [
        {
          "output_type": "stream",
          "text": [
            "  record sname         lname    type depth area\n",
            "1      1   HL2     Halifax 2 station   149   NA\n",
            "2      2    P5      Prince 5 station    95   NA\n",
            "3      3  BBL1 Browns Bank 1 section    53   NA\n",
            "4      4  BBL2 Browns Bank 2 section   122   NA\n",
            "5      5  BBL3 Browns Bank 3 section   107   NA\n",
            "6      6  BBL4 Browns Bank 4 section   101   NA\n"
          ],
          "name": "stdout"
        }
      ]
    },
    {
      "cell_type": "code",
      "metadata": {
        "colab": {
          "base_uri": "https://localhost:8080/"
        },
        "id": "e03iASrCxerx",
        "outputId": "0776274c-4a96-43cf-b03e-6191d920e5ed"
      },
      "source": [
        "%%R\n",
        "# get the info just for the station of interest\n",
        "subtab <- regtab_att[regtab_att$sname == 'P5',]\n",
        "\n",
        "# join with geographic info\n",
        "subtab_geo <- regtab_geo[regtab_geo$record == unique(subtab$record),]\n",
        "\n",
        "library(dplyr)\n",
        "full_join(subtab, subtab_geo)"
      ],
      "execution_count": 23,
      "outputs": [
        {
          "output_type": "stream",
          "text": [
            "R[write to console]: Joining, by = \"record\"\n",
            "\n"
          ],
          "name": "stderr"
        },
        {
          "output_type": "stream",
          "text": [
            "  record sname    lname    type depth area vertice latitude longitude\n",
            "1      2    P5 Prince 5 station    95   NA       1  44.9307  -66.8495\n"
          ],
          "name": "stdout"
        }
      ]
    },
    {
      "cell_type": "markdown",
      "metadata": {
        "id": "BlvJqaoFeL2j"
      },
      "source": [
        "## **Now you try**\n",
        "- use help(package = 'multivaR') to see what else multivaR can do\n",
        "- try calculating a PCA for our data\n"
      ]
    },
    {
      "cell_type": "code",
      "metadata": {
        "id": "XlCliRjGelnD",
        "colab": {
          "base_uri": "https://localhost:8080/"
        },
        "outputId": "6c348a62-5cf8-4d66-8869-856d66dbc8af"
      },
      "source": [
        "%%R\n",
        "\n",
        "help(package = 'multivaR')\n",
        "help(..., package = 'multivaR') #HINT: Insert the function name to replace '...'\n"
      ],
      "execution_count": null,
      "outputs": [
        {
          "output_type": "stream",
          "text": [
            "File: /tmp/Rtmp48yuWZ/Rtxt38389fd949\n",
            "PCA                  package:multivaR                  R Documentation\n",
            "\n",
            "\n",
            "\n",
            "_\bP_\br_\bi_\bn_\bc_\bi_\bp_\ba_\bl _\bc_\bo_\bm_\bp_\bo_\bn_\be_\bn_\bt _\ba_\bn_\ba_\bl_\by_\bs_\bi_\bs _\bf_\bo_\br _\bg_\bi_\bv_\be_\bn _\bs_\be_\bt _\bo_\bf _\bv_\ba_\br_\bi_\ba_\bb_\bl_\be_\bs _\bP_\be_\br_\bf_\bo_\br_\bm_\bs _\ba\n",
            "\n",
            "_\bp_\br_\bi_\bn_\bc_\bi_\bp_\ba_\bl _\bc_\bo_\bm_\bp_\bo_\bn_\be_\bn_\bt_\bs _\ba_\bn_\ba_\bl_\by_\bs_\bi_\bs _\bu_\bs_\bi_\bn_\bg _\bt_\bh_\be _\bs_\bt_\ba_\bt_\bs _\bp_\ba_\bc_\bk_\ba_\bg_\be, _\bo_\bn _\ba_\bl_\bl _\bv_\ba_\br_\bi_\ba_\bb_\bl_\be_\bs\n",
            "\n",
            "_\bp_\br_\bo_\bv_\bi_\bd_\be_\bd _\bi_\bn '_\bd_\ba_\bt_\ba'. _\bC_\bo_\bn_\bv_\be_\br_\bt_\bs _\bt_\bo _\bd_\ba_\bt_\ba._\bt_\ba_\bb_\bl_\be _\ba_\bn_\bd _\br_\be_\bm_\bo_\bv_\be_\bs _\bd_\bu_\bp_\bl_\bi_\bc_\ba_\bt_\be _\bo_\br\n",
            "\n",
            "_\bi_\bn_\bc_\bo_\bm_\bp_\bl_\be_\bt_\be _\br_\bo_\bw_\bs _\bb_\be_\bf_\bo_\br_\be _\bp_\br_\bo_\bc_\be_\bs_\bs_\bi_\bn_\bg.\n",
            "\n",
            "\n",
            "\n",
            "_\bD_\be_\bs_\bc_\br_\bi_\bp_\bt_\bi_\bo_\bn:\n",
            "\n",
            "\n",
            "\n",
            "     Principal component analysis for given set of variables Performs a\n",
            "\n",
            "     principal components analysis using the stats package, on all\n",
            "\n",
            "     variables provided in ‘data’. Converts to data.table and removes\n",
            "\n",
            "     duplicate or incomplete rows before processing.\n",
            "\n",
            "\n",
            "\n",
            "_\bU_\bs_\ba_\bg_\be:\n",
            "\n",
            "\n",
            "\n",
            "     PCA(data)\n",
            "\n",
            "     \n",
            "\n",
            "_\bA_\br_\bg_\bu_\bm_\be_\bn_\bt_\bs:\n",
            "\n",
            "\n",
            "\n",
            "    data: a datatable or dataframe with varibles to be analyzed for\n",
            "\n",
            "          PCA, note the dat atable provided should be a subset\n",
            "\n",
            "          excluding any metadata columns\n",
            "\n",
            "\n",
            "\n",
            "_\bA_\bu_\bt_\bh_\bo_\br(_\bs):\n",
            "\n",
            "\n",
            "\n",
            "     Daniel Reed, Emily Chisholm\n",
            "\n",
            "\n",
            "\n",
            "---\n"
          ],
          "name": "stdout"
        }
      ]
    }
  ]
}