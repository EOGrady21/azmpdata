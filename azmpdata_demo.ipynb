{
  "nbformat": 4,
  "nbformat_minor": 0,
  "metadata": {
    "colab": {
      "name": "azmpdata_demo.ipynb",
      "provenance": [],
      "authorship_tag": "ABX9TyPvlmfld4l6mfhDTBDKCeFO",
      "include_colab_link": true
    },
    "kernelspec": {
      "name": "python3",
      "display_name": "Python 3"
    }
  },
  "cells": [
    {
      "cell_type": "markdown",
      "metadata": {
        "id": "view-in-github",
        "colab_type": "text"
      },
      "source": [
        "<a href=\"https://colab.research.google.com/github/Echisholm21/azmpdata/blob/master/azmpdata_demo.ipynb\" target=\"_parent\"><img src=\"https://colab.research.google.com/assets/colab-badge.svg\" alt=\"Open In Colab\"/></a>"
      ]
    },
    {
      "cell_type": "markdown",
      "metadata": {
        "id": "ShlYTUOEZBRu"
      },
      "source": [
        "### **<font color=\"Black\">azmpdata - R package demo</font>**\n",
        "\n",
        "From **github**, you can launch this page by clicking on the \"Open in Colab\" badge.\n",
        "\n",
        "<br>\n",
        "\n",
        "### **This Tutorial uses Google Colab.**\n",
        "\n",
        "![colab logo](https://github.com/halldm2000/NOAA-AI-2020-TUTORIAL/blob/master/Images/colab.png?raw=true)\n",
        "\n",
        "<br>\n"
      ]
    },
    {
      "cell_type": "markdown",
      "metadata": {
        "id": "NlvfvUgtZNn7"
      },
      "source": [
        "## **Set up your environment**\n",
        "\n",
        "- First we need to tell the notebook we will be working in R\n",
        "- Then we install azmpdata from github\n",
        "- Lastly, call the library to make sure it is loaded (you should get a message about your package being up to date)"
      ]
    },
    {
      "cell_type": "code",
      "metadata": {
        "id": "ywZ5fLfhU8N7",
        "outputId": "dc41fd00-1209-4e24-bb7b-1543bef6f7b4",
        "colab": {
          "base_uri": "https://localhost:8080/"
        }
      },
      "source": [
        "# activate R magic\n",
        "%load_ext rpy2.ipython"
      ],
      "execution_count": 17,
      "outputs": [
        {
          "output_type": "stream",
          "text": [
            "The rpy2.ipython extension is already loaded. To reload it, use:\n",
            "  %reload_ext rpy2.ipython\n"
          ],
          "name": "stdout"
        }
      ]
    },
    {
      "cell_type": "code",
      "metadata": {
        "id": "m3qWvrqRV-4U"
      },
      "source": [
        "%%R\n",
        "# download devtools so we can install from github\n",
        "install.packages('devtools')\n",
        "\n",
        "# install azmpdata\n",
        "devtools::install_github('casaultb/azmpdata')\n",
        "library(azmpdata)"
      ],
      "execution_count": null,
      "outputs": []
    },
    {
      "cell_type": "markdown",
      "metadata": {
        "id": "T8nJmG4ZaxhT"
      },
      "source": [
        "## **Let's try to access some data!**\n",
        "- data can be called directly (if we know the dataframe name)\n",
        "- R auto-complete magic doesn't work in colab but in R-Studio you would get a list of dataframes if you started typing 'data(...)' slowly"
      ]
    },
    {
      "cell_type": "code",
      "metadata": {
        "id": "JWSMURK-a6vI",
        "outputId": "a66b3a94-7d88-446e-f891-4a8440eb2b48",
        "colab": {
          "base_uri": "https://localhost:8080/"
        }
      },
      "source": [
        "%%R\n",
        "\n",
        "data('Discrete_Annual_Broadscale')\n",
        "head(Discrete_Annual_Broadscale)"
      ],
      "execution_count": 21,
      "outputs": [
        {
          "output_type": "stream",
          "text": [
            "  year     area_name salinity sea_temperature\n",
            "1 1948 Scotion Shelf    0.068          -1.396\n",
            "2 1949 Scotion Shelf    0.252           0.545\n",
            "3 1950 Scotion Shelf    0.511          -0.373\n",
            "4 1951 Scotion Shelf    0.080           1.364\n",
            "5 1952 Scotion Shelf   -0.043           0.500\n",
            "6 1953 Scotion Shelf    0.059           0.248\n"
          ],
          "name": "stdout"
        }
      ]
    },
    {
      "cell_type": "markdown",
      "metadata": {
        "id": "aLDcwNt8bi48"
      },
      "source": [
        "- we can also list all the available dataframes"
      ]
    },
    {
      "cell_type": "code",
      "metadata": {
        "id": "7AC3XdGgbmXm",
        "outputId": "26824cb5-c78b-4e6f-9bfd-e22e1da6cfbc",
        "colab": {
          "base_uri": "https://localhost:8080/"
        }
      },
      "source": [
        "%%R\n",
        "\n",
        "data(package = 'azmpdata')"
      ],
      "execution_count": 23,
      "outputs": [
        {
          "output_type": "stream",
          "text": [
            "File: /tmp/Rtmp48yuWZ/RpackageIQR382a219797\n",
            "Data sets in package ‘azmpdata’:\n",
            "\n",
            "\n",
            "\n",
            "Derived_Annual_Broadscale\n",
            "\n",
            "                        Derived monthly broadscale data\n",
            "\n",
            "Derived_Annual_Sections\n",
            "\n",
            "                        Derived Annual Section data\n",
            "\n",
            "Derived_Annual_Stations\n",
            "\n",
            "                        Derived Occupation Monthly data\n",
            "\n",
            "Derived_Occupations_Sections\n",
            "\n",
            "                        Derived Occupation Section data\n",
            "\n",
            "Derived_Occupations_Stations\n",
            "\n",
            "                        Derived Occupation Station data\n",
            "\n",
            "Discrete_Annual_Broadscale\n",
            "\n",
            "                        Discrete annual broadscale data\n",
            "\n",
            "Discrete_Occupations_Sections\n",
            "\n",
            "                        Discrete Occupation Section data\n",
            "\n",
            "Discrete_Occupations_Stations\n",
            "\n",
            "                        Discrete Occupation Station data\n",
            "\n",
            "Phytoplankton_Annual_Stations\n",
            "\n",
            "                        Phytoplankton Annual Station data\n",
            "\n",
            "Phytoplankton_Occupations_Stations\n",
            "\n",
            "                        Phytoplankton Occupation Station data\n",
            "\n",
            "RemoteSensing_Annual_Broadscale\n",
            "\n",
            "                        Remote sensing Annual broadscale data\n",
            "\n",
            "RemoteSensing_Weekly_Broadscale\n",
            "\n",
            "                        Remote Sensing Annual Broadscale data\n",
            "\n",
            "Zooplankton_Annual_Sections\n",
            "\n",
            "                        Zooplankton Annual Section data\n",
            "\n",
            "Zooplankton_Annual_Stations\n",
            "\n",
            "                        Zooplankton Annual Stations data\n",
            "\n",
            "Zooplankton_Occupations_Broadscale\n",
            "\n",
            "                        Zooplankton Occupations Broadscale\n",
            "\n",
            "Zooplankton_Occupations_Sections\n",
            "\n",
            "                        Zooplankton Occupation Section data\n",
            "\n",
            "Zooplankton_Occupations_Stations\n",
            "\n",
            "                        Zooplankton Occupations Stations data\n",
            "\n",
            "Zooplankton_Seasonal_Broadscale\n",
            "\n",
            "                        Zooplankton Seasonal Broadscale\n",
            "\n",
            "Zooplankton_Seasonal_Sections\n",
            "\n",
            "                        Zooplankton Seasonal Sections\n",
            "\n",
            "---\n"
          ],
          "name": "stdout"
        }
      ]
    },
    {
      "cell_type": "markdown",
      "metadata": {
        "id": "-iY0_6tlbwJq"
      },
      "source": [
        "## **Now you try**\n",
        "- Try calling one of the other available dataframes from the package\n",
        "- use the `summary()` function to see the data\n",
        "- Try your favourite 'data peek' function!"
      ]
    },
    {
      "cell_type": "code",
      "metadata": {
        "id": "lXxJqqiUcADi"
      },
      "source": [
        "%%R\n",
        "\n",
        "data(...)\n",
        "summary(...)\n"
      ],
      "execution_count": null,
      "outputs": []
    },
    {
      "cell_type": "markdown",
      "metadata": {
        "id": "_LN7qS4LcJXt"
      },
      "source": [
        "## **Searching azmpdata**\n",
        "\n",
        "There is a built in search function which can help you find the data you are looking for within the azmpdata package\n",
        "\n"
      ]
    },
    {
      "cell_type": "code",
      "metadata": {
        "id": "iBD9EK1AcjWT"
      },
      "source": [
        "%%R\n"
      ],
      "execution_count": null,
      "outputs": []
    },
    {
      "cell_type": "markdown",
      "metadata": {
        "id": "W5eq5eEoc22J"
      },
      "source": [
        "- This search function can..."
      ]
    },
    {
      "cell_type": "code",
      "metadata": {
        "id": "YYKvHODEc9Rd"
      },
      "source": [
        ""
      ],
      "execution_count": null,
      "outputs": []
    },
    {
      "cell_type": "markdown",
      "metadata": {
        "id": "4F9eUM9Fc9lZ"
      },
      "source": [
        "## **Now you try**\n",
        "- Try searching for the term 'zooplankton'\n",
        "- Try combining your search terms (eg. 'zooplankton' and 'dry_weight')\n",
        "- Try calling the dataframe which matches your search terms and viewing the data!"
      ]
    },
    {
      "cell_type": "markdown",
      "metadata": {
        "id": "WeI2EW0fdXVK"
      },
      "source": [
        "## **Analysis and Plotting**\n",
        "\n",
        "- We can use dplyr, or base R tools to manipulate, analyze and plot the data\n",
        "- We can also use some specially deisgned tools to simplify these tasks\n",
        "\n",
        "\n",
        "Let's download another package `multivaR`"
      ]
    },
    {
      "cell_type": "code",
      "metadata": {
        "id": "2zNYAemedsaC",
        "outputId": "114ff01f-259f-4510-b29d-b5a619c89d9d",
        "colab": {
          "base_uri": "https://localhost:8080/"
        }
      },
      "source": [
        "%%R\n",
        "\n",
        "devtools::install_github('echisholm21/multivaR')\n",
        "library(multivaR)"
      ],
      "execution_count": 25,
      "outputs": [
        {
          "output_type": "stream",
          "text": [
            "R[write to console]: Downloading GitHub repo echisholm21/multivaR@HEAD\n",
            "\n"
          ],
          "name": "stderr"
        },
        {
          "output_type": "stream",
          "text": [
            "rJava      (NA -> 0.9-13) [CRAN]\n",
            "gsw        (NA -> 1.0-5 ) [CRAN]\n",
            "xlsxjars   (NA -> 0.6.1 ) [CRAN]\n",
            "ocedata    (NA -> 0.1.8 ) [CRAN]\n",
            "oce        (NA -> 1.2-0 ) [CRAN]\n",
            "xlsx       (NA -> 0.6.5 ) [CRAN]\n",
            "data.table (NA -> 1.13.2) [CRAN]\n"
          ],
          "name": "stdout"
        },
        {
          "output_type": "stream",
          "text": [
            "R[write to console]: Installing 7 packages: rJava, gsw, xlsxjars, ocedata, oce, xlsx, data.table\n",
            "\n",
            "R[write to console]: Installing packages into ‘/usr/local/lib/R/site-library’\n",
            "(as ‘lib’ is unspecified)\n",
            "\n",
            "R[write to console]: trying URL 'https://cran.rstudio.com/src/contrib/rJava_0.9-13.tar.gz'\n",
            "\n",
            "R[write to console]: Content type 'application/x-gzip'\n",
            "R[write to console]:  length 664898 bytes (649 KB)\n",
            "\n",
            "R[write to console]: =\n",
            "R[write to console]: =\n",
            "R[write to console]: =\n",
            "R[write to console]: =\n",
            "R[write to console]: =\n",
            "R[write to console]: =\n",
            "R[write to console]: =\n",
            "R[write to console]: =\n",
            "R[write to console]: =\n",
            "R[write to console]: =\n",
            "R[write to console]: =\n",
            "R[write to console]: =\n",
            "R[write to console]: =\n",
            "R[write to console]: =\n",
            "R[write to console]: =\n",
            "R[write to console]: =\n",
            "R[write to console]: =\n",
            "R[write to console]: =\n",
            "R[write to console]: =\n",
            "R[write to console]: =\n",
            "R[write to console]: =\n",
            "R[write to console]: =\n",
            "R[write to console]: =\n",
            "R[write to console]: =\n",
            "R[write to console]: =\n",
            "R[write to console]: =\n",
            "R[write to console]: =\n",
            "R[write to console]: =\n",
            "R[write to console]: =\n",
            "R[write to console]: =\n",
            "R[write to console]: =\n",
            "R[write to console]: =\n",
            "R[write to console]: =\n",
            "R[write to console]: =\n",
            "R[write to console]: =\n",
            "R[write to console]: =\n",
            "R[write to console]: =\n",
            "R[write to console]: =\n",
            "R[write to console]: =\n",
            "R[write to console]: =\n",
            "R[write to console]: =\n",
            "R[write to console]: =\n",
            "R[write to console]: =\n",
            "R[write to console]: =\n",
            "R[write to console]: =\n",
            "R[write to console]: =\n",
            "R[write to console]: =\n",
            "R[write to console]: =\n",
            "R[write to console]: =\n",
            "R[write to console]: =\n",
            "R[write to console]: \n",
            "\n",
            "R[write to console]: downloaded 649 KB\n",
            "\n",
            "\n",
            "R[write to console]: trying URL 'https://cran.rstudio.com/src/contrib/gsw_1.0-5.tar.gz'\n",
            "\n",
            "R[write to console]: Content type 'application/x-gzip'\n",
            "R[write to console]:  length 2004673 bytes (1.9 MB)\n",
            "\n",
            "R[write to console]: =\n",
            "R[write to console]: =\n",
            "R[write to console]: =\n",
            "R[write to console]: =\n",
            "R[write to console]: =\n",
            "R[write to console]: =\n",
            "R[write to console]: =\n",
            "R[write to console]: =\n",
            "R[write to console]: =\n",
            "R[write to console]: =\n",
            "R[write to console]: =\n",
            "R[write to console]: =\n",
            "R[write to console]: =\n",
            "R[write to console]: =\n",
            "R[write to console]: =\n",
            "R[write to console]: =\n",
            "R[write to console]: =\n",
            "R[write to console]: =\n",
            "R[write to console]: =\n",
            "R[write to console]: =\n",
            "R[write to console]: =\n",
            "R[write to console]: =\n",
            "R[write to console]: =\n",
            "R[write to console]: =\n",
            "R[write to console]: =\n",
            "R[write to console]: =\n",
            "R[write to console]: =\n",
            "R[write to console]: =\n",
            "R[write to console]: =\n",
            "R[write to console]: =\n",
            "R[write to console]: =\n",
            "R[write to console]: =\n",
            "R[write to console]: =\n",
            "R[write to console]: =\n",
            "R[write to console]: =\n",
            "R[write to console]: =\n",
            "R[write to console]: =\n",
            "R[write to console]: =\n",
            "R[write to console]: =\n",
            "R[write to console]: =\n",
            "R[write to console]: =\n",
            "R[write to console]: =\n",
            "R[write to console]: =\n",
            "R[write to console]: =\n",
            "R[write to console]: =\n",
            "R[write to console]: =\n",
            "R[write to console]: =\n",
            "R[write to console]: =\n",
            "R[write to console]: =\n",
            "R[write to console]: =\n",
            "R[write to console]: \n",
            "\n",
            "R[write to console]: downloaded 1.9 MB\n",
            "\n",
            "\n",
            "R[write to console]: trying URL 'https://cran.rstudio.com/src/contrib/xlsxjars_0.6.1.tar.gz'\n",
            "\n",
            "R[write to console]: Content type 'application/x-gzip'\n",
            "R[write to console]:  length 9477071 bytes (9.0 MB)\n",
            "\n",
            "R[write to console]: =\n",
            "R[write to console]: =\n",
            "R[write to console]: =\n",
            "R[write to console]: =\n",
            "R[write to console]: =\n",
            "R[write to console]: =\n",
            "R[write to console]: =\n",
            "R[write to console]: =\n",
            "R[write to console]: =\n",
            "R[write to console]: =\n",
            "R[write to console]: =\n",
            "R[write to console]: =\n",
            "R[write to console]: =\n",
            "R[write to console]: =\n",
            "R[write to console]: =\n",
            "R[write to console]: =\n",
            "R[write to console]: =\n",
            "R[write to console]: =\n",
            "R[write to console]: =\n",
            "R[write to console]: =\n",
            "R[write to console]: =\n",
            "R[write to console]: =\n",
            "R[write to console]: =\n",
            "R[write to console]: =\n",
            "R[write to console]: =\n",
            "R[write to console]: =\n",
            "R[write to console]: =\n",
            "R[write to console]: =\n",
            "R[write to console]: =\n",
            "R[write to console]: =\n",
            "R[write to console]: =\n",
            "R[write to console]: =\n",
            "R[write to console]: =\n",
            "R[write to console]: =\n",
            "R[write to console]: =\n",
            "R[write to console]: =\n",
            "R[write to console]: =\n",
            "R[write to console]: =\n",
            "R[write to console]: =\n",
            "R[write to console]: =\n",
            "R[write to console]: =\n",
            "R[write to console]: =\n",
            "R[write to console]: =\n",
            "R[write to console]: =\n",
            "R[write to console]: =\n",
            "R[write to console]: =\n",
            "R[write to console]: =\n",
            "R[write to console]: =\n",
            "R[write to console]: =\n",
            "R[write to console]: =\n",
            "R[write to console]: \n",
            "\n",
            "R[write to console]: downloaded 9.0 MB\n",
            "\n",
            "\n",
            "R[write to console]: trying URL 'https://cran.rstudio.com/src/contrib/ocedata_0.1.8.tar.gz'\n",
            "\n",
            "R[write to console]: Content type 'application/x-gzip'\n",
            "R[write to console]:  length 4179032 bytes (4.0 MB)\n",
            "\n",
            "R[write to console]: =\n",
            "R[write to console]: =\n",
            "R[write to console]: =\n",
            "R[write to console]: =\n",
            "R[write to console]: =\n",
            "R[write to console]: =\n",
            "R[write to console]: =\n",
            "R[write to console]: =\n",
            "R[write to console]: =\n",
            "R[write to console]: =\n",
            "R[write to console]: =\n",
            "R[write to console]: =\n",
            "R[write to console]: =\n",
            "R[write to console]: =\n",
            "R[write to console]: =\n",
            "R[write to console]: =\n",
            "R[write to console]: =\n",
            "R[write to console]: =\n",
            "R[write to console]: =\n",
            "R[write to console]: =\n",
            "R[write to console]: =\n",
            "R[write to console]: =\n",
            "R[write to console]: =\n",
            "R[write to console]: =\n",
            "R[write to console]: =\n",
            "R[write to console]: =\n",
            "R[write to console]: =\n",
            "R[write to console]: =\n",
            "R[write to console]: =\n",
            "R[write to console]: =\n",
            "R[write to console]: =\n",
            "R[write to console]: =\n",
            "R[write to console]: =\n",
            "R[write to console]: =\n",
            "R[write to console]: =\n",
            "R[write to console]: =\n",
            "R[write to console]: =\n",
            "R[write to console]: =\n",
            "R[write to console]: =\n",
            "R[write to console]: =\n",
            "R[write to console]: =\n",
            "R[write to console]: =\n",
            "R[write to console]: =\n",
            "R[write to console]: =\n",
            "R[write to console]: =\n",
            "R[write to console]: =\n",
            "R[write to console]: =\n",
            "R[write to console]: =\n",
            "R[write to console]: =\n",
            "R[write to console]: =\n",
            "R[write to console]: \n",
            "\n",
            "R[write to console]: downloaded 4.0 MB\n",
            "\n",
            "\n",
            "R[write to console]: trying URL 'https://cran.rstudio.com/src/contrib/oce_1.2-0.tar.gz'\n",
            "\n",
            "R[write to console]: Content type 'application/x-gzip'\n",
            "R[write to console]:  length 4444245 bytes (4.2 MB)\n",
            "\n",
            "R[write to console]: =\n",
            "R[write to console]: =\n",
            "R[write to console]: =\n",
            "R[write to console]: =\n",
            "R[write to console]: =\n",
            "R[write to console]: =\n",
            "R[write to console]: =\n",
            "R[write to console]: =\n",
            "R[write to console]: =\n",
            "R[write to console]: =\n",
            "R[write to console]: =\n",
            "R[write to console]: =\n",
            "R[write to console]: =\n",
            "R[write to console]: =\n",
            "R[write to console]: =\n",
            "R[write to console]: =\n",
            "R[write to console]: =\n",
            "R[write to console]: =\n",
            "R[write to console]: =\n",
            "R[write to console]: =\n",
            "R[write to console]: =\n",
            "R[write to console]: =\n",
            "R[write to console]: =\n",
            "R[write to console]: =\n",
            "R[write to console]: =\n",
            "R[write to console]: =\n",
            "R[write to console]: =\n",
            "R[write to console]: =\n",
            "R[write to console]: =\n",
            "R[write to console]: =\n",
            "R[write to console]: =\n",
            "R[write to console]: =\n",
            "R[write to console]: =\n",
            "R[write to console]: =\n",
            "R[write to console]: =\n",
            "R[write to console]: =\n",
            "R[write to console]: =\n",
            "R[write to console]: =\n",
            "R[write to console]: =\n",
            "R[write to console]: =\n",
            "R[write to console]: =\n",
            "R[write to console]: =\n",
            "R[write to console]: =\n",
            "R[write to console]: =\n",
            "R[write to console]: =\n",
            "R[write to console]: =\n",
            "R[write to console]: =\n",
            "R[write to console]: =\n",
            "R[write to console]: =\n",
            "R[write to console]: =\n",
            "R[write to console]: \n",
            "\n",
            "R[write to console]: downloaded 4.2 MB\n",
            "\n",
            "\n",
            "R[write to console]: trying URL 'https://cran.rstudio.com/src/contrib/xlsx_0.6.5.tar.gz'\n",
            "\n",
            "R[write to console]: Content type 'application/x-gzip'\n",
            "R[write to console]:  length 489493 bytes (478 KB)\n",
            "\n",
            "R[write to console]: =\n",
            "R[write to console]: =\n",
            "R[write to console]: =\n",
            "R[write to console]: =\n",
            "R[write to console]: =\n",
            "R[write to console]: =\n",
            "R[write to console]: =\n",
            "R[write to console]: =\n",
            "R[write to console]: =\n",
            "R[write to console]: =\n",
            "R[write to console]: =\n",
            "R[write to console]: =\n",
            "R[write to console]: =\n",
            "R[write to console]: =\n",
            "R[write to console]: =\n",
            "R[write to console]: =\n",
            "R[write to console]: =\n",
            "R[write to console]: =\n",
            "R[write to console]: =\n",
            "R[write to console]: =\n",
            "R[write to console]: =\n",
            "R[write to console]: =\n",
            "R[write to console]: =\n",
            "R[write to console]: =\n",
            "R[write to console]: =\n",
            "R[write to console]: =\n",
            "R[write to console]: =\n",
            "R[write to console]: =\n",
            "R[write to console]: =\n",
            "R[write to console]: =\n",
            "R[write to console]: =\n",
            "R[write to console]: =\n",
            "R[write to console]: =\n",
            "R[write to console]: =\n",
            "R[write to console]: =\n",
            "R[write to console]: =\n",
            "R[write to console]: =\n",
            "R[write to console]: =\n",
            "R[write to console]: =\n",
            "R[write to console]: =\n",
            "R[write to console]: =\n",
            "R[write to console]: =\n",
            "R[write to console]: =\n",
            "R[write to console]: =\n",
            "R[write to console]: =\n",
            "R[write to console]: =\n",
            "R[write to console]: =\n",
            "R[write to console]: =\n",
            "R[write to console]: =\n",
            "R[write to console]: =\n",
            "R[write to console]: \n",
            "\n",
            "R[write to console]: downloaded 478 KB\n",
            "\n",
            "\n",
            "R[write to console]: trying URL 'https://cran.rstudio.com/src/contrib/data.table_1.13.2.tar.gz'\n",
            "\n",
            "R[write to console]: Content type 'application/x-gzip'\n",
            "R[write to console]:  length 5282452 bytes (5.0 MB)\n",
            "\n",
            "R[write to console]: =\n",
            "R[write to console]: =\n",
            "R[write to console]: =\n",
            "R[write to console]: =\n",
            "R[write to console]: =\n",
            "R[write to console]: =\n",
            "R[write to console]: =\n",
            "R[write to console]: =\n",
            "R[write to console]: =\n",
            "R[write to console]: =\n",
            "R[write to console]: =\n",
            "R[write to console]: =\n",
            "R[write to console]: =\n",
            "R[write to console]: =\n",
            "R[write to console]: =\n",
            "R[write to console]: =\n",
            "R[write to console]: =\n",
            "R[write to console]: =\n",
            "R[write to console]: =\n",
            "R[write to console]: =\n",
            "R[write to console]: =\n",
            "R[write to console]: =\n",
            "R[write to console]: =\n",
            "R[write to console]: =\n",
            "R[write to console]: =\n",
            "R[write to console]: =\n",
            "R[write to console]: =\n",
            "R[write to console]: =\n",
            "R[write to console]: =\n",
            "R[write to console]: =\n",
            "R[write to console]: =\n",
            "R[write to console]: =\n",
            "R[write to console]: =\n",
            "R[write to console]: =\n",
            "R[write to console]: =\n",
            "R[write to console]: =\n",
            "R[write to console]: =\n",
            "R[write to console]: =\n",
            "R[write to console]: =\n",
            "R[write to console]: =\n",
            "R[write to console]: =\n",
            "R[write to console]: =\n",
            "R[write to console]: =\n",
            "R[write to console]: =\n",
            "R[write to console]: =\n",
            "R[write to console]: =\n",
            "R[write to console]: =\n",
            "R[write to console]: =\n",
            "R[write to console]: =\n",
            "R[write to console]: =\n",
            "R[write to console]: \n",
            "\n",
            "R[write to console]: downloaded 5.0 MB\n",
            "\n",
            "\n",
            "R[write to console]: \n",
            "\n",
            "R[write to console]: \n",
            "R[write to console]: The downloaded source packages are in\n",
            "\t‘/tmp/Rtmp48yuWZ/downloaded_packages’\n",
            "R[write to console]: \n",
            "R[write to console]: \n",
            "\n"
          ],
          "name": "stderr"
        },
        {
          "output_type": "stream",
          "text": [
            "✔  checking for file ‘/tmp/Rtmp48yuWZ/remotes384122674/Echisholm21-multivaR-8067ca2/DESCRIPTION’\n",
            "─  preparing ‘multivaR’:\n",
            "✔  checking DESCRIPTION meta-information\n",
            "─  checking for LF line-endings in source and make files and shell scripts\n",
            "─  checking for empty or unneeded directories\n",
            "     NB: this package now depends on R (>= 3.5.0)\n",
            "     WARNING: Added dependency on R >= 3.5.0 because serialized objects in  serialize/load version 3 cannot be read in older versions of R.  File(s) containing such objects:  ‘multivaR/inst/extdata/old_versions_to_delete/regional_tables/AZMP_Sections.RData’  WARNING: Added dependency on R >= 3.5.0 because serialized objects in  serialize/load version 3 cannot be read in older versions of R.  File(s) containing such objects:  ‘multivaR/inst/extdata/old_versions_to_delete/regional_tables/SS.RData’\n",
            "─  building ‘multivaR_0.1.0.tar.gz’\n",
            "   \n"
          ],
          "name": "stdout"
        },
        {
          "output_type": "stream",
          "text": [
            "R[write to console]: Installing package into ‘/usr/local/lib/R/site-library’\n",
            "(as ‘lib’ is unspecified)\n",
            "\n"
          ],
          "name": "stderr"
        }
      ]
    },
    {
      "cell_type": "markdown",
      "metadata": {
        "id": "IFum14SSd40k"
      },
      "source": [
        "- We can use multivaR to do common analysis tasks such as calculate anomalies"
      ]
    },
    {
      "cell_type": "code",
      "metadata": {
        "id": "UoEFzf6Jd_M3"
      },
      "source": [
        "%%R\n",
        "\n",
        "calculate_anomaly(...)"
      ],
      "execution_count": null,
      "outputs": []
    },
    {
      "cell_type": "markdown",
      "metadata": {
        "id": "BA83wboPeEA9"
      },
      "source": [
        "Or even plot the spatial extent of our data"
      ]
    },
    {
      "cell_type": "code",
      "metadata": {
        "id": "uNIpsgJieJf8"
      },
      "source": [
        "%%R\n",
        "\n"
      ],
      "execution_count": null,
      "outputs": []
    },
    {
      "cell_type": "markdown",
      "metadata": {
        "id": "BlvJqaoFeL2j"
      },
      "source": [
        "## **Now you try**\n",
        "- use help(package = 'multivaR') to see what else multivaR can do\n",
        "- try calculating a PCA for our data\n"
      ]
    },
    {
      "cell_type": "code",
      "metadata": {
        "id": "XlCliRjGelnD",
        "outputId": "6c348a62-5cf8-4d66-8869-856d66dbc8af",
        "colab": {
          "base_uri": "https://localhost:8080/"
        }
      },
      "source": [
        "%%R\n",
        "\n",
        "help(package = 'multivaR')\n",
        "help(..., package = 'multivaR') #HINT: Insert the function name to replace '...'\n"
      ],
      "execution_count": 29,
      "outputs": [
        {
          "output_type": "stream",
          "text": [
            "File: /tmp/Rtmp48yuWZ/Rtxt38389fd949\n",
            "PCA                  package:multivaR                  R Documentation\n",
            "\n",
            "\n",
            "\n",
            "_\bP_\br_\bi_\bn_\bc_\bi_\bp_\ba_\bl _\bc_\bo_\bm_\bp_\bo_\bn_\be_\bn_\bt _\ba_\bn_\ba_\bl_\by_\bs_\bi_\bs _\bf_\bo_\br _\bg_\bi_\bv_\be_\bn _\bs_\be_\bt _\bo_\bf _\bv_\ba_\br_\bi_\ba_\bb_\bl_\be_\bs _\bP_\be_\br_\bf_\bo_\br_\bm_\bs _\ba\n",
            "\n",
            "_\bp_\br_\bi_\bn_\bc_\bi_\bp_\ba_\bl _\bc_\bo_\bm_\bp_\bo_\bn_\be_\bn_\bt_\bs _\ba_\bn_\ba_\bl_\by_\bs_\bi_\bs _\bu_\bs_\bi_\bn_\bg _\bt_\bh_\be _\bs_\bt_\ba_\bt_\bs _\bp_\ba_\bc_\bk_\ba_\bg_\be, _\bo_\bn _\ba_\bl_\bl _\bv_\ba_\br_\bi_\ba_\bb_\bl_\be_\bs\n",
            "\n",
            "_\bp_\br_\bo_\bv_\bi_\bd_\be_\bd _\bi_\bn '_\bd_\ba_\bt_\ba'. _\bC_\bo_\bn_\bv_\be_\br_\bt_\bs _\bt_\bo _\bd_\ba_\bt_\ba._\bt_\ba_\bb_\bl_\be _\ba_\bn_\bd _\br_\be_\bm_\bo_\bv_\be_\bs _\bd_\bu_\bp_\bl_\bi_\bc_\ba_\bt_\be _\bo_\br\n",
            "\n",
            "_\bi_\bn_\bc_\bo_\bm_\bp_\bl_\be_\bt_\be _\br_\bo_\bw_\bs _\bb_\be_\bf_\bo_\br_\be _\bp_\br_\bo_\bc_\be_\bs_\bs_\bi_\bn_\bg.\n",
            "\n",
            "\n",
            "\n",
            "_\bD_\be_\bs_\bc_\br_\bi_\bp_\bt_\bi_\bo_\bn:\n",
            "\n",
            "\n",
            "\n",
            "     Principal component analysis for given set of variables Performs a\n",
            "\n",
            "     principal components analysis using the stats package, on all\n",
            "\n",
            "     variables provided in ‘data’. Converts to data.table and removes\n",
            "\n",
            "     duplicate or incomplete rows before processing.\n",
            "\n",
            "\n",
            "\n",
            "_\bU_\bs_\ba_\bg_\be:\n",
            "\n",
            "\n",
            "\n",
            "     PCA(data)\n",
            "\n",
            "     \n",
            "\n",
            "_\bA_\br_\bg_\bu_\bm_\be_\bn_\bt_\bs:\n",
            "\n",
            "\n",
            "\n",
            "    data: a datatable or dataframe with varibles to be analyzed for\n",
            "\n",
            "          PCA, note the dat atable provided should be a subset\n",
            "\n",
            "          excluding any metadata columns\n",
            "\n",
            "\n",
            "\n",
            "_\bA_\bu_\bt_\bh_\bo_\br(_\bs):\n",
            "\n",
            "\n",
            "\n",
            "     Daniel Reed, Emily Chisholm\n",
            "\n",
            "\n",
            "\n",
            "---\n"
          ],
          "name": "stdout"
        }
      ]
    }
  ]
}