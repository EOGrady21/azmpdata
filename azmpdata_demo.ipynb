{
  "nbformat": 4,
  "nbformat_minor": 0,
  "metadata": {
    "colab": {
      "name": "azmpdata_demo.ipynb",
      "provenance": [],
      "authorship_tag": "ABX9TyMsy8xikQ4iv/UpxWquW0Am",
      "include_colab_link": true
    },
    "kernelspec": {
      "name": "python3",
      "display_name": "Python 3"
    }
  },
  "cells": [
    {
      "cell_type": "markdown",
      "metadata": {
        "id": "view-in-github",
        "colab_type": "text"
      },
      "source": [
        "<a href=\"https://colab.research.google.com/github/Echisholm21/azmpdata/blob/master/azmpdata_demo.ipynb\" target=\"_parent\"><img src=\"https://colab.research.google.com/assets/colab-badge.svg\" alt=\"Open In Colab\"/></a>"
      ]
    },
    {
      "cell_type": "code",
      "metadata": {
        "id": "ywZ5fLfhU8N7"
      },
      "source": [
        "# activate R magic\n",
        "%load_ext rpy2.ipython\n",
        "\n",
        "%%R\n",
        "install.packages('devtools')\n",
        "\n",
        "devtools::install_github('casaultb/azmpdata')\n",
        "library(azmpdata)"
      ],
      "execution_count": null,
      "outputs": []
    },
    {
      "cell_type": "code",
      "metadata": {
        "id": "m3qWvrqRV-4U"
      },
      "source": [
        "%%R\n"
      ],
      "execution_count": null,
      "outputs": []
    }
  ]
}